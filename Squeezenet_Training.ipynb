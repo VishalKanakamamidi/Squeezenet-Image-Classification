{
  "nbformat": 4,
  "nbformat_minor": 0,
  "metadata": {
    "colab": {
      "name": "Squeezenet_Training.ipynb",
      "provenance": [],
      "collapsed_sections": []
    },
    "kernelspec": {
      "name": "python3",
      "display_name": "Python 3"
    },
    "accelerator": "GPU"
  },
  "cells": [
    {
      "cell_type": "code",
      "metadata": {
        "id": "FRbvs0akmfy6"
      },
      "source": [
        "! cp /content/drive/MyDrive/temp.zip temp.zip\r\n",
        "! mkdir output\r\n",
        "! unzip temp.zip -d output"
      ],
      "execution_count": null,
      "outputs": []
    },
    {
      "cell_type": "markdown",
      "metadata": {
        "id": "ZEk8Z1335ZUA"
      },
      "source": [
        "#Importing Libraries"
      ]
    },
    {
      "cell_type": "code",
      "metadata": {
        "id": "BP5xvbaS-mmH",
        "colab": {
          "base_uri": "https://localhost:8080/"
        },
        "outputId": "e40d60d2-f5e4-493d-91b7-5e4733d48c46"
      },
      "source": [
        "from __future__ import print_function\r\n",
        "from __future__ import division\r\n",
        "import torch\r\n",
        "import torch.nn as nn\r\n",
        "import torch.optim as optim\r\n",
        "import numpy as np\r\n",
        "import torchvision\r\n",
        "from torchvision import datasets, models, transforms\r\n",
        "import matplotlib.pyplot as plt\r\n",
        "import time\r\n",
        "import os\r\n",
        "import copy\r\n",
        "print(\"PyTorch Version: \",torch.__version__)\r\n",
        "print(\"Torchvision Version: \",torchvision.__version__)"
      ],
      "execution_count": 1,
      "outputs": [
        {
          "output_type": "stream",
          "text": [
            "PyTorch Version:  1.7.0+cu101\n",
            "Torchvision Version:  0.8.1+cu101\n"
          ],
          "name": "stdout"
        }
      ]
    },
    {
      "cell_type": "markdown",
      "metadata": {
        "id": "woCmN5gm53al"
      },
      "source": [
        "#Inputs"
      ]
    },
    {
      "cell_type": "code",
      "metadata": {
        "id": "Eylf62KzUEcG"
      },
      "source": [
        "# Top level data directory. Here we assume the format of the directory conforms\r\n",
        "#   to the ImageFolder structure\r\n",
        "data_dir = \"dataset//\"\r\n",
        "\r\n",
        "# Models to choose from [resnet, alexnet, vgg, squeezenet, densenet, inception]\r\n",
        "model_name = \"squeezenet\"\r\n",
        "\r\n",
        "# Number of classes in the dataset\r\n",
        "num_classes = 2\r\n",
        "\r\n",
        "# Batch size for training (change depending on how much memory you have)\r\n",
        "batch_size = 8\r\n",
        "\r\n",
        "# Number of epochs to train for\r\n",
        "num_epochs = 5\r\n",
        "\r\n",
        "# Flag for feature extracting. When False, we finetune the whole model,\r\n",
        "#   when True we only update the reshaped layer params\r\n",
        "feature_extract = True"
      ],
      "execution_count": 3,
      "outputs": []
    },
    {
      "cell_type": "markdown",
      "metadata": {
        "id": "cq-lPraT58aZ"
      },
      "source": [
        "#Model Training and Validation Code"
      ]
    },
    {
      "cell_type": "code",
      "metadata": {
        "id": "gN_4BUp8UhHo"
      },
      "source": [
        "def train_model(model, dataloaders, criterion, optimizer, num_epochs=25, is_inception=False):\r\n",
        "    since = time.time()\r\n",
        "\r\n",
        "    val_acc_history = []\r\n",
        "\r\n",
        "    best_model_wts = copy.deepcopy(model.state_dict())\r\n",
        "    best_acc = 0.0\r\n",
        "\r\n",
        "    for epoch in range(num_epochs):\r\n",
        "        print('Epoch {}/{}'.format(epoch, num_epochs - 1))\r\n",
        "        print('-' * 10)\r\n",
        "\r\n",
        "        # Each epoch has a training and validation phase\r\n",
        "        for phase in ['train', 'val']:\r\n",
        "            if phase == 'train':\r\n",
        "                model.train()  # Set model to training mode\r\n",
        "            else:\r\n",
        "                model.eval()   # Set model to evaluate mode\r\n",
        "\r\n",
        "            running_loss = 0.0\r\n",
        "            running_corrects = 0\r\n",
        "\r\n",
        "            # Iterate over data.\r\n",
        "            for inputs, labels in dataloaders[phase]:\r\n",
        "                inputs = inputs.to(device)\r\n",
        "                labels = labels.to(device)\r\n",
        "\r\n",
        "                # zero the parameter gradients\r\n",
        "                optimizer.zero_grad()\r\n",
        "\r\n",
        "                # forward\r\n",
        "                # track history if only in train\r\n",
        "                with torch.set_grad_enabled(phase == 'train'):\r\n",
        "                    # Get model outputs and calculate loss\r\n",
        "                    # Special case for inception because in training it has an auxiliary output. In train\r\n",
        "                    #   mode we calculate the loss by summing the final output and the auxiliary output\r\n",
        "                    #   but in testing we only consider the final output.\r\n",
        "                    if is_inception and phase == 'train':\r\n",
        "                        # From https://discuss.pytorch.org/t/how-to-optimize-inception-model-with-auxiliary-classifiers/7958\r\n",
        "                        outputs, aux_outputs = model(inputs)\r\n",
        "                        loss1 = criterion(outputs, labels)\r\n",
        "                        loss2 = criterion(aux_outputs, labels)\r\n",
        "                        loss = loss1 + 0.4*loss2\r\n",
        "                    else:\r\n",
        "                        outputs = model(inputs)\r\n",
        "                        loss = criterion(outputs, labels)\r\n",
        "\r\n",
        "                    _, preds = torch.max(outputs, 1)\r\n",
        "\r\n",
        "                    # backward + optimize only if in training phase\r\n",
        "                    if phase == 'train':\r\n",
        "                        loss.backward()\r\n",
        "                        optimizer.step()\r\n",
        "\r\n",
        "                # statistics\r\n",
        "                running_loss += loss.item() * inputs.size(0)\r\n",
        "                running_corrects += torch.sum(preds == labels.data)\r\n",
        "\r\n",
        "            epoch_loss = running_loss / len(dataloaders[phase].dataset)\r\n",
        "            epoch_acc = running_corrects.double() / len(dataloaders[phase].dataset)\r\n",
        "\r\n",
        "            print('{} Loss: {:.4f} Acc: {:.4f}'.format(phase, epoch_loss, epoch_acc))\r\n",
        "\r\n",
        "            # deep copy the model\r\n",
        "            if phase == 'val' and epoch_acc > best_acc:\r\n",
        "                best_acc = epoch_acc\r\n",
        "                best_model_wts = copy.deepcopy(model.state_dict())\r\n",
        "            if phase == 'val':\r\n",
        "                val_acc_history.append(epoch_acc)\r\n",
        "\r\n",
        "        print()\r\n",
        "\r\n",
        "    time_elapsed = time.time() - since\r\n",
        "    print('Training complete in {:.0f}m {:.0f}s'.format(time_elapsed // 60, time_elapsed % 60))\r\n",
        "    print('Best val Acc: {:4f}'.format(best_acc))\r\n",
        "\r\n",
        "    # load best model weights\r\n",
        "    model.load_state_dict(best_model_wts)\r\n",
        "    return model, val_acc_history"
      ],
      "execution_count": 4,
      "outputs": []
    },
    {
      "cell_type": "markdown",
      "metadata": {
        "id": "D8ckALgq6CeZ"
      },
      "source": [
        "#Set Model Parameters’ .requires_grad attribute"
      ]
    },
    {
      "cell_type": "code",
      "metadata": {
        "id": "huFTjWVAUrTP"
      },
      "source": [
        "def set_parameter_requires_grad(model, feature_extracting):\r\n",
        "    if feature_extracting:\r\n",
        "        for param in model.parameters():\r\n",
        "            param.requires_grad = False"
      ],
      "execution_count": 5,
      "outputs": []
    },
    {
      "cell_type": "markdown",
      "metadata": {
        "id": "soBNQJYQ6JDS"
      },
      "source": [
        "#Initialize and Reshape the Networks"
      ]
    },
    {
      "cell_type": "code",
      "metadata": {
        "id": "O-QW_ELLUvb9"
      },
      "source": [
        "def initialize_model(model_name, num_classes, feature_extract, use_pretrained=True):\r\n",
        "    # Initialize these variables which will be set in this if statement. Each of these\r\n",
        "    #   variables is model specific.\r\n",
        "    model_ft = None\r\n",
        "    input_size = 0\r\n",
        "\r\n",
        "    if model_name == \"resnet\":\r\n",
        "        \"\"\" Resnet18\r\n",
        "        \"\"\"\r\n",
        "        model_ft = models.resnet18(pretrained=use_pretrained)\r\n",
        "        set_parameter_requires_grad(model_ft, feature_extract)\r\n",
        "        num_ftrs = model_ft.fc.in_features\r\n",
        "        model_ft.fc = nn.Linear(num_ftrs, num_classes)\r\n",
        "        input_size = 224\r\n",
        "\r\n",
        "    elif model_name == \"alexnet\":\r\n",
        "        \"\"\" Alexnet\r\n",
        "        \"\"\"\r\n",
        "        model_ft = models.alexnet(pretrained=use_pretrained)\r\n",
        "        set_parameter_requires_grad(model_ft, feature_extract)\r\n",
        "        num_ftrs = model_ft.classifier[6].in_features\r\n",
        "        model_ft.classifier[6] = nn.Linear(num_ftrs,num_classes)\r\n",
        "        input_size = 224\r\n",
        "\r\n",
        "    elif model_name == \"vgg\":\r\n",
        "        \"\"\" VGG11_bn\r\n",
        "        \"\"\"\r\n",
        "        model_ft = models.vgg11_bn(pretrained=use_pretrained)\r\n",
        "        set_parameter_requires_grad(model_ft, feature_extract)\r\n",
        "        num_ftrs = model_ft.classifier[6].in_features\r\n",
        "        model_ft.classifier[6] = nn.Linear(num_ftrs,num_classes)\r\n",
        "        input_size = 224\r\n",
        "\r\n",
        "    elif model_name == \"squeezenet\":\r\n",
        "        \"\"\" Squeezenet\r\n",
        "        \"\"\"\r\n",
        "        model_ft = models.squeezenet1_0(pretrained=use_pretrained)\r\n",
        "        set_parameter_requires_grad(model_ft, feature_extract)\r\n",
        "        model_ft.classifier[1] = nn.Conv2d(512, num_classes, kernel_size=(1,1), stride=(1,1))\r\n",
        "        model_ft.num_classes = num_classes\r\n",
        "        input_size = 224\r\n",
        "\r\n",
        "    elif model_name == \"densenet\":\r\n",
        "        \"\"\" Densenet\r\n",
        "        \"\"\"\r\n",
        "        model_ft = models.densenet121(pretrained=use_pretrained)\r\n",
        "        set_parameter_requires_grad(model_ft, feature_extract)\r\n",
        "        num_ftrs = model_ft.classifier.in_features\r\n",
        "        model_ft.classifier = nn.Linear(num_ftrs, num_classes)\r\n",
        "        input_size = 224\r\n",
        "\r\n",
        "    elif model_name == \"inception\":\r\n",
        "        \"\"\" Inception v3\r\n",
        "        Be careful, expects (299,299) sized images and has auxiliary output\r\n",
        "        \"\"\"\r\n",
        "        model_ft = models.inception_v3(pretrained=use_pretrained)\r\n",
        "        set_parameter_requires_grad(model_ft, feature_extract)\r\n",
        "        # Handle the auxilary net\r\n",
        "        num_ftrs = model_ft.AuxLogits.fc.in_features\r\n",
        "        model_ft.AuxLogits.fc = nn.Linear(num_ftrs, num_classes)\r\n",
        "        # Handle the primary net\r\n",
        "        num_ftrs = model_ft.fc.in_features\r\n",
        "        model_ft.fc = nn.Linear(num_ftrs,num_classes)\r\n",
        "        input_size = 299\r\n",
        "\r\n",
        "    else:\r\n",
        "        print(\"Invalid model name, exiting...\")\r\n",
        "        exit()\r\n",
        "\r\n",
        "    return model_ft, input_size\r\n",
        "\r\n",
        "# Initialize the model for this run\r\n",
        "model_ft, input_size = initialize_model(model_name, num_classes, feature_extract, use_pretrained=True)\r\n",
        "\r\n",
        "# Print the model we just instantiated\r\n",
        "print(model_ft)"
      ],
      "execution_count": null,
      "outputs": []
    },
    {
      "cell_type": "markdown",
      "metadata": {
        "id": "x9BAw-My6Rav"
      },
      "source": [
        "# Load Data"
      ]
    },
    {
      "cell_type": "code",
      "metadata": {
        "colab": {
          "base_uri": "https://localhost:8080/"
        },
        "id": "neFD_tReU1Bg",
        "outputId": "7a9b211e-ac3b-4912-a2cd-a94b984a1ac9"
      },
      "source": [
        "data_transforms = {\r\n",
        "    'train': transforms.Compose([\r\n",
        "        transforms.RandomResizedCrop(input_size),\r\n",
        "        transforms.RandomHorizontalFlip(),\r\n",
        "        transforms.ToTensor(),\r\n",
        "        transforms.Normalize([0.485, 0.456, 0.406], [0.229, 0.224, 0.225])\r\n",
        "    ]),\r\n",
        "    'val': transforms.Compose([\r\n",
        "        transforms.Resize(input_size),\r\n",
        "        transforms.CenterCrop(input_size),\r\n",
        "        transforms.ToTensor(),\r\n",
        "        transforms.Normalize([0.485, 0.456, 0.406], [0.229, 0.224, 0.225])\r\n",
        "    ]),\r\n",
        "}\r\n",
        "\r\n",
        "print(\"Initializing Datasets and Dataloaders...\")\r\n",
        "\r\n",
        "# Create training and validation datasets\r\n",
        "image_datasets = {x: datasets.ImageFolder(os.path.join(data_dir, x), data_transforms[x]) for x in ['train', 'val']}\r\n",
        "# Create training and validation dataloaders\r\n",
        "dataloaders_dict = {x: torch.utils.data.DataLoader(image_datasets[x], batch_size=batch_size, shuffle=True, num_workers=4) for x in ['train', 'val']}\r\n",
        "\r\n",
        "# Detect if we have a GPU available\r\n",
        "device = torch.device(\"cuda:0\" if torch.cuda.is_available() else \"cpu\")"
      ],
      "execution_count": 7,
      "outputs": [
        {
          "output_type": "stream",
          "text": [
            "Initializing Datasets and Dataloaders...\n"
          ],
          "name": "stdout"
        }
      ]
    },
    {
      "cell_type": "markdown",
      "metadata": {
        "id": "xsZelrTA6X-9"
      },
      "source": [
        "#Create the Optimizer"
      ]
    },
    {
      "cell_type": "code",
      "metadata": {
        "colab": {
          "base_uri": "https://localhost:8080/"
        },
        "id": "xL79ElvfU6Iy",
        "outputId": "e199dd9e-a571-45dc-8232-5d2b05dbe9a1"
      },
      "source": [
        "# Send the model to GPU\r\n",
        "model_ft = model_ft.to(device)\r\n",
        "\r\n",
        "# Gather the parameters to be optimized/updated in this run. If we are\r\n",
        "#  finetuning we will be updating all parameters. However, if we are\r\n",
        "#  doing feature extract method, we will only update the parameters\r\n",
        "#  that we have just initialized, i.e. the parameters with requires_grad\r\n",
        "#  is True.\r\n",
        "params_to_update = model_ft.parameters()\r\n",
        "print(\"Params to learn:\")\r\n",
        "if feature_extract:\r\n",
        "    params_to_update = []\r\n",
        "    for name,param in model_ft.named_parameters():\r\n",
        "        if param.requires_grad == True:\r\n",
        "            params_to_update.append(param)\r\n",
        "            print(\"\\t\",name)\r\n",
        "else:\r\n",
        "    for name,param in model_ft.named_parameters():\r\n",
        "        if param.requires_grad == True:\r\n",
        "            print(\"\\t\",name)\r\n",
        "\r\n",
        "# Observe that all parameters are being optimized\r\n",
        "optimizer_ft = optim.SGD(params_to_update, lr=0.001, momentum=0.9)"
      ],
      "execution_count": 8,
      "outputs": [
        {
          "output_type": "stream",
          "text": [
            "Params to learn:\n",
            "\t classifier.1.weight\n",
            "\t classifier.1.bias\n"
          ],
          "name": "stdout"
        }
      ]
    },
    {
      "cell_type": "markdown",
      "metadata": {
        "id": "d0vAB-ZB6ca0"
      },
      "source": [
        "#Run Training and Validation Step"
      ]
    },
    {
      "cell_type": "code",
      "metadata": {
        "colab": {
          "base_uri": "https://localhost:8080/"
        },
        "id": "MUMS18vJVlFo",
        "outputId": "47cb7ca3-f548-467f-ccc6-eb60d7c41c40"
      },
      "source": [
        "# Setup the loss fxn\r\n",
        "criterion = nn.CrossEntropyLoss()\r\n",
        "\r\n",
        "# Train and evaluate\r\n",
        "model_ft, hist = train_model(model_ft, dataloaders_dict, criterion, optimizer_ft, num_epochs=num_epochs, is_inception=(model_name==\"inception\"))"
      ],
      "execution_count": 9,
      "outputs": [
        {
          "output_type": "stream",
          "text": [
            "Epoch 0/4\n",
            "----------\n",
            "train Loss: 0.1737 Acc: 0.9271\n",
            "val Loss: 0.0245 Acc: 1.0000\n",
            "\n",
            "Epoch 1/4\n",
            "----------\n",
            "train Loss: 0.0764 Acc: 0.9695\n",
            "val Loss: 0.0156 Acc: 1.0000\n",
            "\n",
            "Epoch 2/4\n",
            "----------\n",
            "train Loss: 0.0759 Acc: 0.9708\n",
            "val Loss: 0.0096 Acc: 1.0000\n",
            "\n",
            "Epoch 3/4\n",
            "----------\n",
            "train Loss: 0.0546 Acc: 0.9814\n",
            "val Loss: 0.0254 Acc: 0.9889\n",
            "\n",
            "Epoch 4/4\n",
            "----------\n",
            "train Loss: 0.0718 Acc: 0.9668\n",
            "val Loss: 0.0156 Acc: 1.0000\n",
            "\n",
            "Training complete in 0m 22s\n",
            "Best val Acc: 1.000000\n"
          ],
          "name": "stdout"
        }
      ]
    },
    {
      "cell_type": "markdown",
      "metadata": {
        "id": "qBG7cVtD6lSq"
      },
      "source": [
        "# Save the Model"
      ]
    },
    {
      "cell_type": "code",
      "metadata": {
        "id": "b0w8GIg8ayXV"
      },
      "source": [
        "torch.save(model_ft, 'drive/MyDrive/Squeezenet/model.pt')"
      ],
      "execution_count": 21,
      "outputs": []
    }
  ]
}